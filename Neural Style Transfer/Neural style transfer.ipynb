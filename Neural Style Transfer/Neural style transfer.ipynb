{
 "cells": [
  {
   "cell_type": "code",
   "execution_count": 1,
   "metadata": {},
   "outputs": [],
   "source": [
    "import torch\n",
    "import torch.nn as nn\n",
    "import torchvision.models as models\n",
    "import torchvision.transforms as transforms\n",
    "from PIL import Image\n",
    "import torch.optim as optim\n",
    "from torchvision.utils import save_image\n",
    "import matplotlib.pyplot as plt"
   ]
  },
  {
   "cell_type": "code",
   "execution_count": 2,
   "metadata": {},
   "outputs": [
    {
     "name": "stdout",
     "output_type": "stream",
     "text": [
      "Sequential(\n",
      "  (0): Conv2d(3, 64, kernel_size=(3, 3), stride=(1, 1), padding=(1, 1))\n",
      "  (1): ReLU(inplace=True)\n",
      "  (2): Conv2d(64, 64, kernel_size=(3, 3), stride=(1, 1), padding=(1, 1))\n",
      "  (3): ReLU(inplace=True)\n",
      "  (4): MaxPool2d(kernel_size=2, stride=2, padding=0, dilation=1, ceil_mode=False)\n",
      "  (5): Conv2d(64, 128, kernel_size=(3, 3), stride=(1, 1), padding=(1, 1))\n",
      "  (6): ReLU(inplace=True)\n",
      "  (7): Conv2d(128, 128, kernel_size=(3, 3), stride=(1, 1), padding=(1, 1))\n",
      "  (8): ReLU(inplace=True)\n",
      "  (9): MaxPool2d(kernel_size=2, stride=2, padding=0, dilation=1, ceil_mode=False)\n",
      "  (10): Conv2d(128, 256, kernel_size=(3, 3), stride=(1, 1), padding=(1, 1))\n",
      "  (11): ReLU(inplace=True)\n",
      "  (12): Conv2d(256, 256, kernel_size=(3, 3), stride=(1, 1), padding=(1, 1))\n",
      "  (13): ReLU(inplace=True)\n",
      "  (14): Conv2d(256, 256, kernel_size=(3, 3), stride=(1, 1), padding=(1, 1))\n",
      "  (15): ReLU(inplace=True)\n",
      "  (16): Conv2d(256, 256, kernel_size=(3, 3), stride=(1, 1), padding=(1, 1))\n",
      "  (17): ReLU(inplace=True)\n",
      "  (18): MaxPool2d(kernel_size=2, stride=2, padding=0, dilation=1, ceil_mode=False)\n",
      "  (19): Conv2d(256, 512, kernel_size=(3, 3), stride=(1, 1), padding=(1, 1))\n",
      "  (20): ReLU(inplace=True)\n",
      "  (21): Conv2d(512, 512, kernel_size=(3, 3), stride=(1, 1), padding=(1, 1))\n",
      "  (22): ReLU(inplace=True)\n",
      "  (23): Conv2d(512, 512, kernel_size=(3, 3), stride=(1, 1), padding=(1, 1))\n",
      "  (24): ReLU(inplace=True)\n",
      "  (25): Conv2d(512, 512, kernel_size=(3, 3), stride=(1, 1), padding=(1, 1))\n",
      "  (26): ReLU(inplace=True)\n",
      "  (27): MaxPool2d(kernel_size=2, stride=2, padding=0, dilation=1, ceil_mode=False)\n",
      "  (28): Conv2d(512, 512, kernel_size=(3, 3), stride=(1, 1), padding=(1, 1))\n",
      "  (29): ReLU(inplace=True)\n",
      "  (30): Conv2d(512, 512, kernel_size=(3, 3), stride=(1, 1), padding=(1, 1))\n",
      "  (31): ReLU(inplace=True)\n",
      "  (32): Conv2d(512, 512, kernel_size=(3, 3), stride=(1, 1), padding=(1, 1))\n",
      "  (33): ReLU(inplace=True)\n",
      "  (34): Conv2d(512, 512, kernel_size=(3, 3), stride=(1, 1), padding=(1, 1))\n",
      "  (35): ReLU(inplace=True)\n",
      "  (36): MaxPool2d(kernel_size=2, stride=2, padding=0, dilation=1, ceil_mode=False)\n",
      ")\n"
     ]
    }
   ],
   "source": [
    "model = models.vgg19(pretrained = True).features\n",
    "print(model)"
   ]
  },
  {
   "cell_type": "code",
   "execution_count": 3,
   "metadata": {},
   "outputs": [],
   "source": [
    "class VGG(nn.Module):\n",
    "    def __init__(self):\n",
    "        super(VGG,self).__init__()\n",
    "        self.chosen_features = ['0','5', '10', '19','28']\n",
    "        self.model = models.vgg19(pretrained = True).features[:29]\n",
    "    def forward(self, x):\n",
    "        features = []\n",
    "        for layer_num,layer in enumerate(self.model):\n",
    "            x = layer(x)\n",
    "            if str(layer_num) in self.chosen_features:\n",
    "                features.append(x)\n",
    "        return features"
   ]
  },
  {
   "cell_type": "code",
   "execution_count": 4,
   "metadata": {},
   "outputs": [],
   "source": [
    "def load_image(image):\n",
    "    image = Image.open(image)\n",
    "    image = loader(image).unsqueeze(0)\n",
    "    return image.to(device)"
   ]
  },
  {
   "cell_type": "code",
   "execution_count": 5,
   "metadata": {},
   "outputs": [],
   "source": [
    "device = torch.device('cuda:0' if torch.cuda.is_available() else 'cpu')"
   ]
  },
  {
   "cell_type": "code",
   "execution_count": 6,
   "metadata": {},
   "outputs": [],
   "source": [
    "im_size = 356"
   ]
  },
  {
   "cell_type": "code",
   "execution_count": 7,
   "metadata": {},
   "outputs": [],
   "source": [
    "loader = transforms.Compose([transforms.Resize((im_size,im_size)),\n",
    "                            transforms.ToTensor()])"
   ]
  },
  {
   "cell_type": "code",
   "execution_count": 8,
   "metadata": {},
   "outputs": [],
   "source": [
    "original_img = load_image('goldenbridge.jpg')\n",
    "style_img = load_image('starryimg.jpg')"
   ]
  },
  {
   "cell_type": "code",
   "execution_count": 9,
   "metadata": {},
   "outputs": [
    {
     "data": {
      "text/plain": [
       "torch.Tensor"
      ]
     },
     "execution_count": 9,
     "metadata": {},
     "output_type": "execute_result"
    }
   ],
   "source": [
    "type(style_img)"
   ]
  },
  {
   "cell_type": "code",
   "execution_count": 10,
   "metadata": {},
   "outputs": [
    {
     "data": {
      "text/plain": [
       "True"
      ]
     },
     "execution_count": 10,
     "metadata": {},
     "output_type": "execute_result"
    }
   ],
   "source": [
    "style_img.is_cuda"
   ]
  },
  {
   "cell_type": "code",
   "execution_count": 11,
   "metadata": {},
   "outputs": [
    {
     "data": {
      "text/plain": [
       "True"
      ]
     },
     "execution_count": 11,
     "metadata": {},
     "output_type": "execute_result"
    }
   ],
   "source": [
    "original_img.is_cuda"
   ]
  },
  {
   "cell_type": "code",
   "execution_count": 12,
   "metadata": {},
   "outputs": [],
   "source": [
    "# generated = torch.randn(original_img.data.shape, device=device, requires_grad=True)\n",
    "generated = original_img.clone().requires_grad_(True)\n",
    "model = VGG().to(device).eval()"
   ]
  },
  {
   "cell_type": "code",
   "execution_count": 13,
   "metadata": {},
   "outputs": [],
   "source": [
    "#hyperparameters\n",
    "total_steps = 6000\n",
    "learning_rate = 0.01\n",
    "alpha = 1\n",
    "beta = 0.01\n",
    "optimizer = optim.Adam([generated],lr = learning_rate)"
   ]
  },
  {
   "cell_type": "code",
   "execution_count": 14,
   "metadata": {},
   "outputs": [
    {
     "name": "stdout",
     "output_type": "stream",
     "text": [
      "tensor(105584.1484, device='cuda:0', grad_fn=<AddBackward0>)\n",
      "tensor(328.5591, device='cuda:0', grad_fn=<AddBackward0>)\n",
      "tensor(170.1773, device='cuda:0', grad_fn=<AddBackward0>)\n",
      "tensor(180.9818, device='cuda:0', grad_fn=<AddBackward0>)\n",
      "tensor(134.1369, device='cuda:0', grad_fn=<AddBackward0>)\n",
      "tensor(165.2439, device='cuda:0', grad_fn=<AddBackward0>)\n",
      "tensor(579.0601, device='cuda:0', grad_fn=<AddBackward0>)\n",
      "tensor(190.7857, device='cuda:0', grad_fn=<AddBackward0>)\n",
      "tensor(152.8796, device='cuda:0', grad_fn=<AddBackward0>)\n",
      "tensor(135.3183, device='cuda:0', grad_fn=<AddBackward0>)\n",
      "tensor(122.0916, device='cuda:0', grad_fn=<AddBackward0>)\n",
      "tensor(113.5036, device='cuda:0', grad_fn=<AddBackward0>)\n",
      "tensor(108.0214, device='cuda:0', grad_fn=<AddBackward0>)\n",
      "tensor(104.7045, device='cuda:0', grad_fn=<AddBackward0>)\n",
      "tensor(99.2918, device='cuda:0', grad_fn=<AddBackward0>)\n",
      "tensor(94.9996, device='cuda:0', grad_fn=<AddBackward0>)\n",
      "tensor(104.6537, device='cuda:0', grad_fn=<AddBackward0>)\n",
      "tensor(89.9983, device='cuda:0', grad_fn=<AddBackward0>)\n",
      "tensor(109.2280, device='cuda:0', grad_fn=<AddBackward0>)\n",
      "tensor(88.1687, device='cuda:0', grad_fn=<AddBackward0>)\n",
      "tensor(85.1733, device='cuda:0', grad_fn=<AddBackward0>)\n",
      "tensor(6028.4341, device='cuda:0', grad_fn=<AddBackward0>)\n",
      "tensor(145.1565, device='cuda:0', grad_fn=<AddBackward0>)\n",
      "tensor(121.0941, device='cuda:0', grad_fn=<AddBackward0>)\n",
      "tensor(110.5620, device='cuda:0', grad_fn=<AddBackward0>)\n",
      "tensor(103.8680, device='cuda:0', grad_fn=<AddBackward0>)\n",
      "tensor(99.8798, device='cuda:0', grad_fn=<AddBackward0>)\n",
      "tensor(94.7012, device='cuda:0', grad_fn=<AddBackward0>)\n",
      "tensor(91.6008, device='cuda:0', grad_fn=<AddBackward0>)\n",
      "tensor(89.7487, device='cuda:0', grad_fn=<AddBackward0>)\n"
     ]
    }
   ],
   "source": [
    "#training\n",
    "for step in range(total_steps):\n",
    "    generated_features = model(generated)\n",
    "    original_img_features = model(original_img)\n",
    "    style_features = model(style_img)\n",
    "    style_loss = 0\n",
    "    original_loss = 0\n",
    "    for gen_feature, orig_feature, style_feature in zip(generated_features,original_img_features,style_features):\n",
    "        batch_size, channel, height, width = gen_feature.shape\n",
    "        original_loss += torch.mean((gen_feature - orig_feature)**2)\n",
    "        G = gen_feature.view(channel,height*width).mm(gen_feature.view(channel,height*width).t())\n",
    "        A = style_feature.view(channel,height*width).mm(style_feature.view(channel,height*width).t())\n",
    "        style_loss = torch.mean((G-A)**2)\n",
    "    total_loss = alpha*original_loss + beta*style_loss\n",
    "    optimizer.zero_grad()\n",
    "    total_loss.backward()\n",
    "    optimizer.step()\n",
    "    if step%200==0:\n",
    "        print(total_loss)\n",
    "        save_image(generated,'generated.png')"
   ]
  },
  {
   "cell_type": "code",
   "execution_count": null,
   "metadata": {},
   "outputs": [],
   "source": []
  }
 ],
 "metadata": {
  "kernelspec": {
   "display_name": "Python 3",
   "language": "python",
   "name": "python3"
  },
  "language_info": {
   "codemirror_mode": {
    "name": "ipython",
    "version": 3
   },
   "file_extension": ".py",
   "mimetype": "text/x-python",
   "name": "python",
   "nbconvert_exporter": "python",
   "pygments_lexer": "ipython3",
   "version": "3.7.1"
  }
 },
 "nbformat": 4,
 "nbformat_minor": 4
}
