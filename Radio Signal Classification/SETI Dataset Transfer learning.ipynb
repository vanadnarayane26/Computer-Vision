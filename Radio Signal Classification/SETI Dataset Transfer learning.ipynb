{
 "cells": [
  {
   "cell_type": "code",
   "execution_count": 19,
   "id": "536e28d3",
   "metadata": {},
   "outputs": [
    {
     "name": "stdout",
     "output_type": "stream",
     "text": [
      "2.5.0\n",
      "True\n"
     ]
    }
   ],
   "source": [
    "import pandas as pd\n",
    "import numpy as np\n",
    "import tensorflow as tf\n",
    "from tensorflow.keras.applications.vgg16 import VGG16\n",
    "import matplotlib.pyplot as plt\n",
    "print(tf.__version__)\n",
    "tf.config.list_physical_devices('GPU')\n",
    "print(tf.test.is_gpu_available())"
   ]
  },
  {
   "cell_type": "code",
   "execution_count": 20,
   "id": "d6c50c00",
   "metadata": {},
   "outputs": [],
   "source": [
    "train_img = pd.read_csv('dataset/train/images.csv',header = None)\n",
    "train_label = pd.read_csv('dataset/train/labels.csv',header = None)\n",
    "val_img = pd.read_csv('dataset/validation/images.csv',header = None)\n",
    "val_label = pd.read_csv('dataset/validation/labels.csv',header = None)"
   ]
  },
  {
   "cell_type": "code",
   "execution_count": 21,
   "id": "bcc2ed64",
   "metadata": {},
   "outputs": [
    {
     "data": {
      "text/html": [
       "<div>\n",
       "<style scoped>\n",
       "    .dataframe tbody tr th:only-of-type {\n",
       "        vertical-align: middle;\n",
       "    }\n",
       "\n",
       "    .dataframe tbody tr th {\n",
       "        vertical-align: top;\n",
       "    }\n",
       "\n",
       "    .dataframe thead th {\n",
       "        text-align: right;\n",
       "    }\n",
       "</style>\n",
       "<table border=\"1\" class=\"dataframe\">\n",
       "  <thead>\n",
       "    <tr style=\"text-align: right;\">\n",
       "      <th></th>\n",
       "      <th>0</th>\n",
       "      <th>1</th>\n",
       "      <th>2</th>\n",
       "      <th>3</th>\n",
       "      <th>4</th>\n",
       "      <th>5</th>\n",
       "      <th>6</th>\n",
       "      <th>7</th>\n",
       "      <th>8</th>\n",
       "      <th>9</th>\n",
       "      <th>...</th>\n",
       "      <th>8182</th>\n",
       "      <th>8183</th>\n",
       "      <th>8184</th>\n",
       "      <th>8185</th>\n",
       "      <th>8186</th>\n",
       "      <th>8187</th>\n",
       "      <th>8188</th>\n",
       "      <th>8189</th>\n",
       "      <th>8190</th>\n",
       "      <th>8191</th>\n",
       "    </tr>\n",
       "  </thead>\n",
       "  <tbody>\n",
       "    <tr>\n",
       "      <th>0</th>\n",
       "      <td>0.631373</td>\n",
       "      <td>0.623529</td>\n",
       "      <td>0.713726</td>\n",
       "      <td>0.705882</td>\n",
       "      <td>0.658824</td>\n",
       "      <td>0.666667</td>\n",
       "      <td>0.654902</td>\n",
       "      <td>0.635294</td>\n",
       "      <td>0.647059</td>\n",
       "      <td>0.705882</td>\n",
       "      <td>...</td>\n",
       "      <td>0.682353</td>\n",
       "      <td>0.611765</td>\n",
       "      <td>0.650980</td>\n",
       "      <td>0.658824</td>\n",
       "      <td>0.600000</td>\n",
       "      <td>0.603922</td>\n",
       "      <td>0.654902</td>\n",
       "      <td>0.694118</td>\n",
       "      <td>0.658824</td>\n",
       "      <td>0.666667</td>\n",
       "    </tr>\n",
       "    <tr>\n",
       "      <th>1</th>\n",
       "      <td>0.725490</td>\n",
       "      <td>0.752941</td>\n",
       "      <td>0.749020</td>\n",
       "      <td>0.701961</td>\n",
       "      <td>0.690196</td>\n",
       "      <td>0.721569</td>\n",
       "      <td>0.709804</td>\n",
       "      <td>0.745098</td>\n",
       "      <td>0.654902</td>\n",
       "      <td>0.721569</td>\n",
       "      <td>...</td>\n",
       "      <td>0.721569</td>\n",
       "      <td>0.698039</td>\n",
       "      <td>0.721569</td>\n",
       "      <td>0.686275</td>\n",
       "      <td>0.713726</td>\n",
       "      <td>0.682353</td>\n",
       "      <td>0.690196</td>\n",
       "      <td>0.698039</td>\n",
       "      <td>0.701961</td>\n",
       "      <td>0.725490</td>\n",
       "    </tr>\n",
       "    <tr>\n",
       "      <th>2</th>\n",
       "      <td>0.717647</td>\n",
       "      <td>0.701961</td>\n",
       "      <td>0.713726</td>\n",
       "      <td>0.733333</td>\n",
       "      <td>0.705882</td>\n",
       "      <td>0.717647</td>\n",
       "      <td>0.725490</td>\n",
       "      <td>0.682353</td>\n",
       "      <td>0.717647</td>\n",
       "      <td>0.674510</td>\n",
       "      <td>...</td>\n",
       "      <td>0.709804</td>\n",
       "      <td>0.694118</td>\n",
       "      <td>0.705882</td>\n",
       "      <td>0.682353</td>\n",
       "      <td>0.639216</td>\n",
       "      <td>0.713726</td>\n",
       "      <td>0.670588</td>\n",
       "      <td>0.678431</td>\n",
       "      <td>0.737255</td>\n",
       "      <td>0.674510</td>\n",
       "    </tr>\n",
       "    <tr>\n",
       "      <th>3</th>\n",
       "      <td>0.705882</td>\n",
       "      <td>0.674510</td>\n",
       "      <td>0.654902</td>\n",
       "      <td>0.678431</td>\n",
       "      <td>0.666667</td>\n",
       "      <td>0.662745</td>\n",
       "      <td>0.678431</td>\n",
       "      <td>0.662745</td>\n",
       "      <td>0.686275</td>\n",
       "      <td>0.686275</td>\n",
       "      <td>...</td>\n",
       "      <td>0.639216</td>\n",
       "      <td>0.662745</td>\n",
       "      <td>0.631373</td>\n",
       "      <td>0.643137</td>\n",
       "      <td>0.705882</td>\n",
       "      <td>0.662745</td>\n",
       "      <td>0.705882</td>\n",
       "      <td>0.666667</td>\n",
       "      <td>0.654902</td>\n",
       "      <td>0.631373</td>\n",
       "    </tr>\n",
       "    <tr>\n",
       "      <th>4</th>\n",
       "      <td>0.647059</td>\n",
       "      <td>0.729412</td>\n",
       "      <td>0.701961</td>\n",
       "      <td>0.674510</td>\n",
       "      <td>0.611765</td>\n",
       "      <td>0.698039</td>\n",
       "      <td>0.713726</td>\n",
       "      <td>0.662745</td>\n",
       "      <td>0.701961</td>\n",
       "      <td>0.674510</td>\n",
       "      <td>...</td>\n",
       "      <td>0.639216</td>\n",
       "      <td>0.670588</td>\n",
       "      <td>0.705882</td>\n",
       "      <td>0.674510</td>\n",
       "      <td>0.721569</td>\n",
       "      <td>0.694118</td>\n",
       "      <td>0.674510</td>\n",
       "      <td>0.705882</td>\n",
       "      <td>0.749020</td>\n",
       "      <td>0.729412</td>\n",
       "    </tr>\n",
       "  </tbody>\n",
       "</table>\n",
       "<p>5 rows × 8192 columns</p>\n",
       "</div>"
      ],
      "text/plain": [
       "       0         1         2         3         4         5         6     \\\n",
       "0  0.631373  0.623529  0.713726  0.705882  0.658824  0.666667  0.654902   \n",
       "1  0.725490  0.752941  0.749020  0.701961  0.690196  0.721569  0.709804   \n",
       "2  0.717647  0.701961  0.713726  0.733333  0.705882  0.717647  0.725490   \n",
       "3  0.705882  0.674510  0.654902  0.678431  0.666667  0.662745  0.678431   \n",
       "4  0.647059  0.729412  0.701961  0.674510  0.611765  0.698039  0.713726   \n",
       "\n",
       "       7         8         9     ...      8182      8183      8184      8185  \\\n",
       "0  0.635294  0.647059  0.705882  ...  0.682353  0.611765  0.650980  0.658824   \n",
       "1  0.745098  0.654902  0.721569  ...  0.721569  0.698039  0.721569  0.686275   \n",
       "2  0.682353  0.717647  0.674510  ...  0.709804  0.694118  0.705882  0.682353   \n",
       "3  0.662745  0.686275  0.686275  ...  0.639216  0.662745  0.631373  0.643137   \n",
       "4  0.662745  0.701961  0.674510  ...  0.639216  0.670588  0.705882  0.674510   \n",
       "\n",
       "       8186      8187      8188      8189      8190      8191  \n",
       "0  0.600000  0.603922  0.654902  0.694118  0.658824  0.666667  \n",
       "1  0.713726  0.682353  0.690196  0.698039  0.701961  0.725490  \n",
       "2  0.639216  0.713726  0.670588  0.678431  0.737255  0.674510  \n",
       "3  0.705882  0.662745  0.705882  0.666667  0.654902  0.631373  \n",
       "4  0.721569  0.694118  0.674510  0.705882  0.749020  0.729412  \n",
       "\n",
       "[5 rows x 8192 columns]"
      ]
     },
     "execution_count": 21,
     "metadata": {},
     "output_type": "execute_result"
    }
   ],
   "source": [
    "train_img.head()"
   ]
  },
  {
   "cell_type": "code",
   "execution_count": 22,
   "id": "9fac5d50",
   "metadata": {},
   "outputs": [
    {
     "name": "stdout",
     "output_type": "stream",
     "text": [
      "(3200, 8192)\n",
      "(3200, 4)\n",
      "(800, 8192)\n",
      "(800, 4)\n"
     ]
    }
   ],
   "source": [
    "print(train_img.shape)\n",
    "print(train_label.shape)\n",
    "print(val_img.shape)\n",
    "print(val_label.shape)"
   ]
  },
  {
   "cell_type": "code",
   "execution_count": 23,
   "id": "c36f6e99",
   "metadata": {},
   "outputs": [],
   "source": [
    "train_img = train_img.values.reshape(3200,64,128,1)\n",
    "y_train = train_label.values\n",
    "val_img = val_img.values.reshape(800,64,128,1)\n",
    "y_val = val_label.values"
   ]
  },
  {
   "cell_type": "code",
   "execution_count": 24,
   "id": "8ebeecfd",
   "metadata": {},
   "outputs": [
    {
     "data": {
      "text/plain": [
       "array([[1., 0., 0., 0.],\n",
       "       [1., 0., 0., 0.],\n",
       "       [1., 0., 0., 0.],\n",
       "       [1., 0., 0., 0.],\n",
       "       [1., 0., 0., 0.]])"
      ]
     },
     "execution_count": 24,
     "metadata": {},
     "output_type": "execute_result"
    }
   ],
   "source": [
    "y_train[0:5]"
   ]
  },
  {
   "cell_type": "code",
   "execution_count": 25,
   "id": "2213fd4d",
   "metadata": {},
   "outputs": [
    {
     "data": {
      "text/plain": [
       "array([[1., 0., 0., 0.],\n",
       "       [1., 0., 0., 0.],\n",
       "       [1., 0., 0., 0.],\n",
       "       [1., 0., 0., 0.],\n",
       "       [1., 0., 0., 0.]])"
      ]
     },
     "execution_count": 25,
     "metadata": {},
     "output_type": "execute_result"
    }
   ],
   "source": [
    "y_val[0:5]"
   ]
  },
  {
   "cell_type": "code",
   "execution_count": 26,
   "id": "9af21358",
   "metadata": {},
   "outputs": [
    {
     "name": "stderr",
     "output_type": "stream",
     "text": [
      "D:\\Anaconda\\envs\\tf_cuda_compat\\lib\\site-packages\\matplotlib\\text.py:1215: FutureWarning: elementwise comparison failed; returning scalar instead, but in the future will perform elementwise comparison\n",
      "  if s != self._text:\n"
     ]
    },
    {
     "data": {
      "image/png": "[encoded data removed]",
      "text/plain": [
       "<Figure size 640x480 with 1 Axes>"
      ]
     },
     "metadata": {},
     "output_type": "display_data"
    }
   ],
   "source": [
    "idx = np.random.randint(0,train_img.shape[0])\n",
    "plt.imshow(np.squeeze(train_img[idx]),cmap = 'binary')\n",
    "plt.title(y_train[idx])\n",
    "plt.show()"
   ]
  },
  {
   "cell_type": "code",
   "execution_count": 27,
   "id": "38b56181",
   "metadata": {},
   "outputs": [
    {
     "data": {
      "image/png": "[encoded data removed]",
      "text/plain": [
       "<Figure size 640x480 with 1 Axes>"
      ]
     },
     "metadata": {},
     "output_type": "display_data"
    }
   ],
   "source": [
    "idx = np.random.randint(0,val_img.shape[0])\n",
    "plt.imshow(np.squeeze(val_img[idx]),cmap = 'binary')\n",
    "plt.title(y_val[idx])\n",
    "plt.show()"
   ]
  },
  {
   "cell_type": "code",
   "execution_count": 28,
   "id": "11a9ee9f",
   "metadata": {},
   "outputs": [
    {
     "data": {
      "image/png": "[encoded data removed]",
      "text/plain": [
       "<Figure size 600x300 with 1 Axes>"
      ]
     },
     "metadata": {},
     "output_type": "display_data"
    }
   ],
   "source": [
    "# Balanced dataset\n",
    "train_label.value_counts().plot.bar(figsize = (6,3))\n",
    "plt.show()"
   ]
  },
  {
   "cell_type": "code",
   "execution_count": 48,
   "id": "835e3d21",
   "metadata": {},
   "outputs": [],
   "source": [
    "# Hyperparameters\n",
    "input_shape = [64,128]\n",
    "epoch = 50\n",
    "lr = 1e-4\n",
    "batch_size = 32"
   ]
  },
  {
   "cell_type": "code",
   "execution_count": 30,
   "id": "c40e5fbf",
   "metadata": {},
   "outputs": [],
   "source": [
    "train_gen = tf.keras.preprocessing.image.ImageDataGenerator(horizontal_flip = True)\n",
    "val_gen = tf.keras.preprocessing.image.ImageDataGenerator()\n",
    "train_gen.fit(train_img)\n",
    "val_gen.fit(val_img)"
   ]
  },
  {
   "cell_type": "code",
   "execution_count": 31,
   "id": "0dcf365b",
   "metadata": {},
   "outputs": [],
   "source": [
    "train_ds = train_gen.flow(train_img,\n",
    "                          y = y_train,\n",
    "                          batch_size = batch_size,\n",
    "                          shuffle = True)\n",
    "val_ds = val_gen.flow(val_img,\n",
    "                      y = y_val,\n",
    "                      batch_size = batch_size,\n",
    "                      shuffle = True)"
   ]
  },
  {
   "cell_type": "code",
   "execution_count": 32,
   "id": "d56656a0",
   "metadata": {},
   "outputs": [
    {
     "data": {
      "text/plain": [
       "100"
      ]
     },
     "execution_count": 32,
     "metadata": {},
     "output_type": "execute_result"
    }
   ],
   "source": [
    "len(train_ds)"
   ]
  },
  {
   "cell_type": "code",
   "execution_count": 44,
   "id": "620f284f",
   "metadata": {},
   "outputs": [
    {
     "name": "stdout",
     "output_type": "stream",
     "text": [
      "Model: \"vgg16\"\n",
      "_________________________________________________________________\n",
      "Layer (type)                 Output Shape              Param #   \n",
      "=================================================================\n",
      "input_16 (InputLayer)        [(None, None, None, 3)]   0         \n",
      "_________________________________________________________________\n",
      "block1_conv1 (Conv2D)        (None, None, None, 64)    1792      \n",
      "_________________________________________________________________\n",
      "block1_conv2 (Conv2D)        (None, None, None, 64)    36928     \n",
      "_________________________________________________________________\n",
      "block1_pool (MaxPooling2D)   (None, None, None, 64)    0         \n",
      "_________________________________________________________________\n",
      "block2_conv1 (Conv2D)        (None, None, None, 128)   73856     \n",
      "_________________________________________________________________\n",
      "block2_conv2 (Conv2D)        (None, None, None, 128)   147584    \n",
      "_________________________________________________________________\n",
      "block2_pool (MaxPooling2D)   (None, None, None, 128)   0         \n",
      "_________________________________________________________________\n",
      "block3_conv1 (Conv2D)        (None, None, None, 256)   295168    \n",
      "_________________________________________________________________\n",
      "block3_conv2 (Conv2D)        (None, None, None, 256)   590080    \n",
      "_________________________________________________________________\n",
      "block3_conv3 (Conv2D)        (None, None, None, 256)   590080    \n",
      "_________________________________________________________________\n",
      "block3_pool (MaxPooling2D)   (None, None, None, 256)   0         \n",
      "_________________________________________________________________\n",
      "block4_conv1 (Conv2D)        (None, None, None, 512)   1180160   \n",
      "_________________________________________________________________\n",
      "block4_conv2 (Conv2D)        (None, None, None, 512)   2359808   \n",
      "_________________________________________________________________\n",
      "block4_conv3 (Conv2D)        (None, None, None, 512)   2359808   \n",
      "_________________________________________________________________\n",
      "block4_pool (MaxPooling2D)   (None, None, None, 512)   0         \n",
      "_________________________________________________________________\n",
      "block5_conv1 (Conv2D)        (None, None, None, 512)   2359808   \n",
      "_________________________________________________________________\n",
      "block5_conv2 (Conv2D)        (None, None, None, 512)   2359808   \n",
      "_________________________________________________________________\n",
      "block5_conv3 (Conv2D)        (None, None, None, 512)   2359808   \n",
      "_________________________________________________________________\n",
      "block5_pool (MaxPooling2D)   (None, None, None, 512)   0         \n",
      "=================================================================\n",
      "Total params: 14,714,688\n",
      "Trainable params: 0\n",
      "Non-trainable params: 14,714,688\n",
      "_________________________________________________________________\n"
     ]
    }
   ],
   "source": [
    "vgg = VGG16(include_top = False,weights = 'imagenet')\n",
    "for i in range(len(vgg.layers)):\n",
    "    vgg.layers[i].trainable = False\n",
    "# vgg.layers[-2].trainable = True\n",
    "vgg.summary()"
   ]
  },
  {
   "cell_type": "code",
   "execution_count": 45,
   "id": "3b167119",
   "metadata": {},
   "outputs": [
    {
     "name": "stdout",
     "output_type": "stream",
     "text": [
      "Model: \"model_2\"\n",
      "_________________________________________________________________\n",
      "Layer (type)                 Output Shape              Param #   \n",
      "=================================================================\n",
      "input_17 (InputLayer)        [(None, 64, 128, 1)]      0         \n",
      "_________________________________________________________________\n",
      "conv2d_2 (Conv2D)            (None, 64, 128, 3)        30        \n",
      "_________________________________________________________________\n",
      "vgg16 (Functional)           (None, None, None, 512)   14714688  \n",
      "_________________________________________________________________\n",
      "flatten_2 (Flatten)          (None, 4096)              0         \n",
      "_________________________________________________________________\n",
      "dense_6 (Dense)              (None, 128)               524416    \n",
      "_________________________________________________________________\n",
      "dense_7 (Dense)              (None, 32)                4128      \n",
      "_________________________________________________________________\n",
      "dense_8 (Dense)              (None, 4)                 132       \n",
      "=================================================================\n",
      "Total params: 15,243,394\n",
      "Trainable params: 528,706\n",
      "Non-trainable params: 14,714,688\n",
      "_________________________________________________________________\n"
     ]
    }
   ],
   "source": [
    "new_input_layer = tf.keras.layers.Input(shape = input_shape + [1])\n",
    "new_conv_layer = tf.keras.layers.Conv2D(3,3,padding = 'same')(new_input_layer)\n",
    "vgg_output = vgg(new_conv_layer)\n",
    "x = tf.keras.layers.Flatten()(vgg_output)\n",
    "x = tf.keras.layers.Dense(units = 128,activation = 'relu')(x)\n",
    "x = tf.keras.layers.Dense(32,activation = 'relu')(x)\n",
    "new_output_layer = tf.keras.layers.Dense(4,activation = 'sigmoid')(x)\n",
    "model = tf.keras.Model(inputs = new_input_layer,outputs = new_output_layer)\n",
    "model.summary()"
   ]
  },
  {
   "cell_type": "code",
   "execution_count": 47,
   "id": "d2b3a9cb",
   "metadata": {},
   "outputs": [],
   "source": [
    "callback = tf.keras.callbacks.EarlyStopping(monitor = 'val_loss',\n",
    "                                            min_delta = 0.0005,\n",
    "                                            patience = 5,\n",
    "                                            verbose = 1)\n",
    "model.compile(loss = 'binary_crossentropy',\n",
    "              optimizer = tf.keras.optimizers.Adam(learning_rate = lr),\n",
    "              metrics = ['accuracy'])"
   ]
  },
  {
   "cell_type": "code",
   "execution_count": 49,
   "id": "d5f99742",
   "metadata": {},
   "outputs": [
    {
     "name": "stdout",
     "output_type": "stream",
     "text": [
      "Epoch 1/50\n",
      "100/100 [==============================] - 15s 140ms/step - loss: 0.5721 - accuracy: 0.3316 - val_loss: 0.5467 - val_accuracy: 0.3000\n",
      "Epoch 2/50\n",
      "100/100 [==============================] - 14s 138ms/step - loss: 0.5250 - accuracy: 0.4994 - val_loss: 0.5014 - val_accuracy: 0.5200\n",
      "Epoch 3/50\n",
      "100/100 [==============================] - 14s 138ms/step - loss: 0.4748 - accuracy: 0.6559 - val_loss: 0.4471 - val_accuracy: 0.6925\n",
      "Epoch 4/50\n",
      "100/100 [==============================] - 14s 139ms/step - loss: 0.4218 - accuracy: 0.7066 - val_loss: 0.3980 - val_accuracy: 0.7113\n",
      "Epoch 5/50\n",
      "100/100 [==============================] - 14s 140ms/step - loss: 0.3792 - accuracy: 0.7113 - val_loss: 0.3623 - val_accuracy: 0.7188\n",
      "Epoch 6/50\n",
      "100/100 [==============================] - 14s 142ms/step - loss: 0.3491 - accuracy: 0.7163 - val_loss: 0.3365 - val_accuracy: 0.7250\n",
      "Epoch 7/50\n",
      "100/100 [==============================] - 14s 143ms/step - loss: 0.3226 - accuracy: 0.7253 - val_loss: 0.3111 - val_accuracy: 0.7312\n",
      "Epoch 8/50\n",
      "100/100 [==============================] - 14s 145ms/step - loss: 0.2972 - accuracy: 0.7331 - val_loss: 0.2888 - val_accuracy: 0.7350\n",
      "Epoch 9/50\n",
      "100/100 [==============================] - 15s 147ms/step - loss: 0.2764 - accuracy: 0.7350 - val_loss: 0.2698 - val_accuracy: 0.7400\n",
      "Epoch 10/50\n",
      "100/100 [==============================] - 15s 146ms/step - loss: 0.2580 - accuracy: 0.7444 - val_loss: 0.2514 - val_accuracy: 0.7387\n",
      "Epoch 11/50\n",
      "100/100 [==============================] - 15s 148ms/step - loss: 0.2439 - accuracy: 0.7372 - val_loss: 0.2380 - val_accuracy: 0.7538\n",
      "Epoch 12/50\n",
      "100/100 [==============================] - 15s 149ms/step - loss: 0.2314 - accuracy: 0.7400 - val_loss: 0.2279 - val_accuracy: 0.7362\n",
      "Epoch 13/50\n",
      "100/100 [==============================] - 15s 148ms/step - loss: 0.2212 - accuracy: 0.7509 - val_loss: 0.2208 - val_accuracy: 0.7375\n",
      "Epoch 14/50\n",
      "100/100 [==============================] - 15s 148ms/step - loss: 0.2158 - accuracy: 0.7472 - val_loss: 0.2242 - val_accuracy: 0.7412\n",
      "Epoch 15/50\n",
      "100/100 [==============================] - 15s 147ms/step - loss: 0.2104 - accuracy: 0.7447 - val_loss: 0.2112 - val_accuracy: 0.7400\n",
      "Epoch 16/50\n",
      "100/100 [==============================] - 15s 147ms/step - loss: 0.2049 - accuracy: 0.7497 - val_loss: 0.2074 - val_accuracy: 0.7400\n",
      "Epoch 17/50\n",
      "100/100 [==============================] - 15s 148ms/step - loss: 0.2013 - accuracy: 0.7478 - val_loss: 0.2028 - val_accuracy: 0.7375\n",
      "Epoch 18/50\n",
      "100/100 [==============================] - 15s 149ms/step - loss: 0.1994 - accuracy: 0.7406 - val_loss: 0.2010 - val_accuracy: 0.7450\n",
      "Epoch 19/50\n",
      "100/100 [==============================] - 15s 146ms/step - loss: 0.1962 - accuracy: 0.7497 - val_loss: 0.1990 - val_accuracy: 0.7412\n",
      "Epoch 20/50\n",
      "100/100 [==============================] - 15s 147ms/step - loss: 0.1953 - accuracy: 0.7519 - val_loss: 0.1981 - val_accuracy: 0.7462\n",
      "Epoch 21/50\n",
      "100/100 [==============================] - 15s 146ms/step - loss: 0.1930 - accuracy: 0.7497 - val_loss: 0.1956 - val_accuracy: 0.7525\n",
      "Epoch 22/50\n",
      "100/100 [==============================] - 15s 145ms/step - loss: 0.1927 - accuracy: 0.7441 - val_loss: 0.1944 - val_accuracy: 0.7362\n",
      "Epoch 23/50\n",
      "100/100 [==============================] - 14s 139ms/step - loss: 0.1902 - accuracy: 0.7494 - val_loss: 0.1941 - val_accuracy: 0.7400\n",
      "Epoch 24/50\n",
      "100/100 [==============================] - 14s 139ms/step - loss: 0.1890 - accuracy: 0.7525 - val_loss: 0.1918 - val_accuracy: 0.7362\n",
      "Epoch 25/50\n",
      "100/100 [==============================] - 14s 140ms/step - loss: 0.1898 - accuracy: 0.7528 - val_loss: 0.1910 - val_accuracy: 0.7412\n",
      "Epoch 26/50\n",
      "100/100 [==============================] - 14s 139ms/step - loss: 0.1891 - accuracy: 0.7478 - val_loss: 0.1897 - val_accuracy: 0.7538\n",
      "Epoch 27/50\n",
      "100/100 [==============================] - 14s 139ms/step - loss: 0.1874 - accuracy: 0.7466 - val_loss: 0.1950 - val_accuracy: 0.7462\n",
      "Epoch 28/50\n",
      "100/100 [==============================] - 14s 139ms/step - loss: 0.1861 - accuracy: 0.7556 - val_loss: 0.1901 - val_accuracy: 0.7412\n",
      "Epoch 29/50\n",
      "100/100 [==============================] - 14s 139ms/step - loss: 0.1859 - accuracy: 0.7487 - val_loss: 0.1883 - val_accuracy: 0.7525\n",
      "Epoch 30/50\n",
      "100/100 [==============================] - 14s 139ms/step - loss: 0.1861 - accuracy: 0.7544 - val_loss: 0.1875 - val_accuracy: 0.7450\n",
      "Epoch 31/50\n",
      "100/100 [==============================] - 14s 139ms/step - loss: 0.1849 - accuracy: 0.7563 - val_loss: 0.1892 - val_accuracy: 0.7400\n",
      "Epoch 32/50\n",
      "100/100 [==============================] - 14s 139ms/step - loss: 0.1845 - accuracy: 0.7541 - val_loss: 0.1860 - val_accuracy: 0.7400\n",
      "Epoch 33/50\n",
      "100/100 [==============================] - 14s 139ms/step - loss: 0.1845 - accuracy: 0.7428 - val_loss: 0.1857 - val_accuracy: 0.7487\n",
      "Epoch 34/50\n",
      "100/100 [==============================] - 14s 139ms/step - loss: 0.1834 - accuracy: 0.7469 - val_loss: 0.1867 - val_accuracy: 0.7513\n",
      "Epoch 35/50\n",
      "100/100 [==============================] - 14s 139ms/step - loss: 0.1825 - accuracy: 0.7597 - val_loss: 0.1897 - val_accuracy: 0.7450\n",
      "Epoch 36/50\n",
      "100/100 [==============================] - 14s 139ms/step - loss: 0.1847 - accuracy: 0.7497 - val_loss: 0.1864 - val_accuracy: 0.7450\n",
      "Epoch 37/50\n",
      "100/100 [==============================] - 14s 139ms/step - loss: 0.1828 - accuracy: 0.7456 - val_loss: 0.1842 - val_accuracy: 0.7625\n",
      "Epoch 38/50\n",
      "100/100 [==============================] - 14s 139ms/step - loss: 0.1820 - accuracy: 0.7506 - val_loss: 0.1835 - val_accuracy: 0.7575\n",
      "Epoch 39/50\n",
      "100/100 [==============================] - 14s 139ms/step - loss: 0.1818 - accuracy: 0.7491 - val_loss: 0.1857 - val_accuracy: 0.7437\n",
      "Epoch 40/50\n",
      "100/100 [==============================] - 14s 139ms/step - loss: 0.1820 - accuracy: 0.7547 - val_loss: 0.1846 - val_accuracy: 0.7475\n",
      "Epoch 41/50\n",
      "100/100 [==============================] - 14s 139ms/step - loss: 0.1817 - accuracy: 0.7509 - val_loss: 0.1841 - val_accuracy: 0.7475\n",
      "Epoch 42/50\n",
      "100/100 [==============================] - 14s 139ms/step - loss: 0.1803 - accuracy: 0.7422 - val_loss: 0.1818 - val_accuracy: 0.7613\n",
      "Epoch 43/50\n",
      "100/100 [==============================] - 14s 139ms/step - loss: 0.1813 - accuracy: 0.7547 - val_loss: 0.1816 - val_accuracy: 0.7513\n",
      "Epoch 44/50\n",
      "100/100 [==============================] - 14s 139ms/step - loss: 0.1804 - accuracy: 0.7578 - val_loss: 0.1813 - val_accuracy: 0.7613\n",
      "Epoch 45/50\n",
      "100/100 [==============================] - 14s 139ms/step - loss: 0.1797 - accuracy: 0.7563 - val_loss: 0.1816 - val_accuracy: 0.7425\n",
      "Epoch 46/50\n",
      "100/100 [==============================] - 14s 139ms/step - loss: 0.1802 - accuracy: 0.7516 - val_loss: 0.1810 - val_accuracy: 0.7550\n",
      "Epoch 47/50\n",
      "100/100 [==============================] - 14s 139ms/step - loss: 0.1779 - accuracy: 0.7491 - val_loss: 0.1809 - val_accuracy: 0.7538\n",
      "Epoch 48/50\n",
      "100/100 [==============================] - 14s 139ms/step - loss: 0.1794 - accuracy: 0.7588 - val_loss: 0.1807 - val_accuracy: 0.7500\n",
      "Epoch 49/50\n",
      "100/100 [==============================] - 14s 139ms/step - loss: 0.1787 - accuracy: 0.7609 - val_loss: 0.1819 - val_accuracy: 0.7500\n",
      "Epoch 50/50\n",
      "100/100 [==============================] - 14s 139ms/step - loss: 0.1785 - accuracy: 0.7572 - val_loss: 0.1807 - val_accuracy: 0.7613\n"
     ]
    }
   ],
   "source": [
    "history = model.fit(train_ds,\n",
    "          epochs = epoch, \n",
    "          batch_size = batch_size,\n",
    "          validation_data = val_ds,\n",
    "          steps_per_epoch = len(train_ds),\n",
    "          validation_steps = len(val_ds),\n",
    "          callbacks = [callback],\n",
    "          validation_batch_size = batch_size)"
   ]
  },
  {
   "cell_type": "code",
   "execution_count": null,
   "id": "95d24f36",
   "metadata": {},
   "outputs": [],
   "source": []
  }
 ],
 "metadata": {
  "kernelspec": {
   "display_name": "Python 3",
   "language": "python",
   "name": "python3"
  },
  "language_info": {
   "codemirror_mode": {
    "name": "ipython",
    "version": 3
   },
   "file_extension": ".py",
   "mimetype": "text/x-python",
   "name": "python",
   "nbconvert_exporter": "python",
   "pygments_lexer": "ipython3",
   "version": "3.8.10"
  }
 },
 "nbformat": 4,
 "nbformat_minor": 5
}
